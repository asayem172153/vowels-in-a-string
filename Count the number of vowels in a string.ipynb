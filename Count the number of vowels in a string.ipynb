{
  "nbformat": 4,
  "nbformat_minor": 0,
  "metadata": {
    "colab": {
      "provenance": []
    },
    "kernelspec": {
      "name": "python3",
      "display_name": "Python 3"
    },
    "language_info": {
      "name": "python"
    }
  },
  "cells": [
    {
      "cell_type": "markdown",
      "source": [
        "**general approach**"
      ],
      "metadata": {
        "id": "bPbdq9xIwOAL"
      }
    },
    {
      "cell_type": "code",
      "execution_count": 8,
      "metadata": {
        "id": "d42WRFhErssh",
        "colab": {
          "base_uri": "https://localhost:8080/"
        },
        "outputId": "30e30902-096b-46d6-ce09-ca1caadde8d1"
      },
      "outputs": [
        {
          "output_type": "stream",
          "name": "stdout",
          "text": [
            "Enter a String: sayem\n",
            "Total Number of vowels: 2\n"
          ]
        }
      ],
      "source": [
        "string = input('Enter a String: ')\n",
        "\n",
        "count = 0\n",
        "\n",
        "for i in string:\n",
        "  if i.upper() == 'A' or i.upper() == 'E' or i.upper() == 'I' or i.upper() == 'O' or i.upper() == 'U': # we can use lower()\n",
        "    count += 1\n",
        "print('Total Number of vowels:',count)"
      ]
    },
    {
      "cell_type": "markdown",
      "source": [
        "**Another Way**"
      ],
      "metadata": {
        "id": "DPm-BdAGqjsm"
      }
    },
    {
      "cell_type": "code",
      "source": [
        "string = input('Enter a String: ')\n",
        "\n",
        "vowels = 'aeiouAEIOU'\n",
        "count = 0\n",
        "\n",
        "for i in string:\n",
        "  if i in vowels:\n",
        "    count += 1\n",
        "\n",
        "print('Total Number of vowels:',count)"
      ],
      "metadata": {
        "colab": {
          "base_uri": "https://localhost:8080/"
        },
        "id": "dfe8uSjgqnGA",
        "outputId": "868d7014-57f7-40ac-ee83-2d7a1ea0b977"
      },
      "execution_count": 9,
      "outputs": [
        {
          "output_type": "stream",
          "name": "stdout",
          "text": [
            "Enter a String: sayem\n",
            "Total Number of vowels: 2\n"
          ]
        }
      ]
    }
  ]
}